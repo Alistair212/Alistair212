{
  "cells": [
    {
      "cell_type": "markdown",
      "metadata": {
        "id": "view-in-github",
        "colab_type": "text"
      },
      "source": [
        "<a href=\"https://colab.research.google.com/github/Alistair212/Alistair212/blob/main/Copy_of_COMP2712_8715_2021_Assignment01_AlistairHorwood.ipynb\" target=\"_parent\"><img src=\"https://colab.research.google.com/assets/colab-badge.svg\" alt=\"Open In Colab\"/></a>"
      ]
    },
    {
      "cell_type": "markdown",
      "metadata": {
        "id": "KVDcdZVVIswy"
      },
      "source": [
        "# COMP2712_8715 Assignment01: Classifying Images Using MLP and SVM Algorithms \n",
        "This assignment is to explore the concepts covered in the topic so far with respect to training and evaluating classifiers such as the Multi-layer Perceptron (MLP) and Support Vector Machines (SVM).  \n",
        "\n",
        "This starter Notebook can be used as a starter for this assignment.  It contains examples for reading and manipulating the dataset and training a standard MLP.  You should use this notebook in conjunction with the Assignment Specification that can be found on the topic FLO page: [COMP2712_8715](https://flo.flinders.edu.au/course/view.php?id=71089#section-17)\n",
        "\n"
      ]
    },
    {
      "cell_type": "markdown",
      "metadata": {
        "id": "QC0Dh4dwQ0Iq"
      },
      "source": [
        "## Accessing Data from Google Drive\n",
        "The dataset for this assignment is the CIFAR-10 dataset that can be found here:\n",
        "https://www.cs.toronto.edu/~kriz/cifar.html \n",
        "\n",
        "The CIFAR-10 and CIFAR-100 are well studied, yet challenging image recognition dataset. The CIFAR-10 has up to 10 classes to classify and contains 60,000 32x32 images. You should read the description of the dataset and download the dataset for Python, that is\n",
        "\n",
        "CIFAR-10 python version: https://www.cs.toronto.edu/~kriz/cifar-10-python.tar.gz \n",
        "\n",
        "Once downloaded you need to then extract and upload the `cifar-10-batches-py` directory your Google Drive so that you can access it from within your Google Colab.\n",
        "\n",
        "You can mount the Google Drive from the menu on the left or uncomment use the code below mount the drive.  See here for documentation on file access in Colab:\n",
        "\n",
        "[External data: Local Files, Drive, Sheets, and Cloud Storage](https://colab.research.google.com/notebooks/io.ipynb)\n"
      ]
    },
    {
      "cell_type": "code",
      "execution_count": 1,
      "metadata": {
        "colab": {
          "base_uri": "https://localhost:8080/"
        },
        "id": "JEHloSne7FtE",
        "outputId": "3c5d5515-b63c-4ced-dc99-475b6830ff14"
      },
      "outputs": [
        {
          "output_type": "stream",
          "name": "stdout",
          "text": [
            "Mounted at /content/drive\n"
          ]
        }
      ],
      "source": [
        "from google.colab import drive\n",
        "drive.mount('/content/drive')"
      ]
    },
    {
      "cell_type": "code",
      "execution_count": 2,
      "metadata": {
        "colab": {
          "base_uri": "https://localhost:8080/"
        },
        "id": "X6-0Jo9BRmNy",
        "outputId": "9947acf3-c3ab-4f85-eed8-a0b1d7b4e586"
      },
      "outputs": [
        {
          "output_type": "stream",
          "name": "stdout",
          "text": [
            "Drive already mounted at /content/drive; to attempt to forcibly remount, call drive.mount(\"/content/drive\", force_remount=True).\n"
          ]
        }
      ],
      "source": [
        "# uncomment the below to mount the google drive\n",
        "from google.colab import drive\n",
        "drive.mount('/content/drive')"
      ]
    },
    {
      "cell_type": "markdown",
      "metadata": {
        "id": "3s7DsaxDI2im"
      },
      "source": [
        "## Functions to work with CIFAR\n",
        "\n",
        "The functions below help with access to the CIFAR-10 data the you have downloaded."
      ]
    },
    {
      "cell_type": "code",
      "execution_count": 3,
      "metadata": {
        "id": "nUSVhQr5KDv1"
      },
      "outputs": [],
      "source": [
        "import pickle\n",
        "import numpy as np\n",
        "import pandas as pd\n",
        "\n",
        "def load_CIFAR_batch(filename, flatten=True, categorical=True):\n",
        "    \"\"\" load single batch of cifar \"\"\"\n",
        "    with open(filename, 'rb') as f:\n",
        "        datadict = pickle.load(f, encoding='bytes')\n",
        "        X = datadict[b'data']        \n",
        "        X = X.reshape(10000, 3, 32, 32).transpose(0, 2, 3, 1).astype(\"float\")\n",
        "        if (flatten):\n",
        "          X = X.reshape(10000, 3072)\n",
        "        X = X.astype('float32')\n",
        "        X /= 255\n",
        "\n",
        "        y = datadict[b'labels']\n",
        "        y = np.array(y)\n",
        "        if (categorical):\n",
        "          y = pd.get_dummies(y).values\n",
        "\n",
        "        return X, y\n",
        "\n",
        "def load_CIFAR_meta(filename):\n",
        "  with open(filename,'rb') as f:\n",
        "    metadict = pickle.load(f, encoding='bytes')\n",
        "\n",
        "    class_labels = [ val.decode() for val in metadict.get(b'label_names') ]\n",
        "    return class_labels\n",
        "\n",
        "def get_image(X, index, nchans=3, size=32):\n",
        "  xi = X[index,:]\n",
        "  img = xi.reshape(32, 32, 3)\n",
        "  return img"
      ]
    },
    {
      "cell_type": "markdown",
      "metadata": {
        "id": "axqceDnNJVss"
      },
      "source": [
        "## Load the CIFAR data\n",
        "\n",
        "The CIFAR data has 5 batches of data and 1 test data set. Each batch is labelled\n",
        "- `data_batch_1`\n",
        "- `data_batch_2`\n",
        "- `data_batch_3`\n",
        "- `data_batch_4`\n",
        "- `data_batch_5`\n",
        "\n",
        "and a test set labelled\n",
        "- `test_batch`\n",
        "\n",
        "each batch has 10,000 images, so 50,000 training and 10,000 test images."
      ]
    },
    {
      "cell_type": "markdown",
      "metadata": {
        "id": "s2X0_Oz_SkHi"
      },
      "source": [
        "Below is example of loading the first batch of training data labelled as `data_batch_1`.  You will need to update the path to match where you have stored your cifar-10 data."
      ]
    },
    {
      "cell_type": "code",
      "execution_count": 4,
      "metadata": {
        "id": "8Tuyy6hKKFhx"
      },
      "outputs": [],
      "source": [
        "X, y = load_CIFAR_batch('/content/drive/My Drive/cifar-10-batches-py/data_batch_1')"
      ]
    },
    {
      "cell_type": "markdown",
      "metadata": {
        "id": "oMUnAt_YKPjp"
      },
      "source": [
        "The number of instances/examples for all the different classes.  There are 10 different classes."
      ]
    },
    {
      "cell_type": "code",
      "execution_count": 5,
      "metadata": {
        "colab": {
          "base_uri": "https://localhost:8080/"
        },
        "id": "8-uX5AZmQG9N",
        "outputId": "df6cd278-7d9f-47f2-b78b-206728e880f8"
      },
      "outputs": [
        {
          "output_type": "execute_result",
          "data": {
            "text/plain": [
              "[1005, 974, 1032, 1016, 999, 937, 1030, 1001, 1025, 981]"
            ]
          },
          "metadata": {},
          "execution_count": 5
        }
      ],
      "source": [
        "[np.sum(np.argmax(y, axis=1) == i) for i in range(0,10)]"
      ]
    },
    {
      "cell_type": "markdown",
      "metadata": {
        "id": "fD_HIgldKlsd"
      },
      "source": [
        "The labels for the classes are stored in the `batches.meta` file"
      ]
    },
    {
      "cell_type": "code",
      "execution_count": 6,
      "metadata": {
        "colab": {
          "base_uri": "https://localhost:8080/"
        },
        "id": "-HKjGtxStmcz",
        "outputId": "24c16759-1cdf-4c27-9037-6b9f59911ff5"
      },
      "outputs": [
        {
          "output_type": "stream",
          "name": "stdout",
          "text": [
            "['airplane', 'automobile', 'bird', 'cat', 'deer', 'dog', 'frog', 'horse', 'ship', 'truck']\n"
          ]
        }
      ],
      "source": [
        "class_labels = load_CIFAR_meta('/content/drive/MyDrive/cifar-10-batches-py/batches.meta')\n",
        "print(class_labels)"
      ]
    },
    {
      "cell_type": "markdown",
      "metadata": {
        "id": "AYNjse_BTLnx"
      },
      "source": [
        "Let's look at some random cat images, because cats."
      ]
    },
    {
      "cell_type": "code",
      "execution_count": 7,
      "metadata": {
        "id": "zoI3IO7KTjMg"
      },
      "outputs": [],
      "source": [
        "import random\n",
        "import matplotlib.pyplot as plt\n",
        "\n",
        "def plot_random(X, y, class_labels, what_target='cat'):\n",
        "\n",
        "  what_label = class_labels.index(what_target)\n",
        "  what_labeli = np.where(np.argmax(y,axis=1) == what_label)[0]\n",
        "  random_what_index = what_labeli[random.choice(range(len(what_labeli)))]\n",
        "\n",
        "  plt.imshow(get_image(X,random_what_index))\n",
        "  plt.title('{}, index: {}'.format(what_target,random_what_index))\n",
        "  plt.axis('off')"
      ]
    },
    {
      "cell_type": "code",
      "execution_count": 8,
      "metadata": {
        "colab": {
          "base_uri": "https://localhost:8080/",
          "height": 264
        },
        "id": "6AiPII3JUm3R",
        "outputId": "e6b042b6-26f2-4a05-fc54-aba35ac40272"
      },
      "outputs": [
        {
          "output_type": "display_data",
          "data": {
            "text/plain": [
              "<Figure size 432x288 with 1 Axes>"
            ],
            "image/png": "[encoded data removed]"
          },
          "metadata": {
            "needs_background": "light"
          }
        }
      ],
      "source": [
        "plot_random(X, y, class_labels, what_target='cat')\n"
      ]
    },
    {
      "cell_type": "markdown",
      "metadata": {
        "id": "v557teUwb50v"
      },
      "source": [
        "## Set up and train MLP"
      ]
    },
    {
      "cell_type": "code",
      "execution_count": 9,
      "metadata": {
        "colab": {
          "base_uri": "https://localhost:8080/"
        },
        "id": "AZk2OEWpb83j",
        "outputId": "c8d9b317-1908-4521-bc19-5eda2033aa38"
      },
      "outputs": [
        {
          "output_type": "stream",
          "name": "stdout",
          "text": [
            "Iteration 1, loss = 3.40028810\n",
            "Iteration 2, loss = 3.02815017\n",
            "Iteration 3, loss = 2.91589164\n",
            "Iteration 4, loss = 2.84009878\n",
            "Iteration 5, loss = 2.80101889\n",
            "Iteration 6, loss = 2.77659016\n",
            "Iteration 7, loss = 2.73566213\n",
            "Iteration 8, loss = 2.71443283\n",
            "Iteration 9, loss = 2.67922882\n",
            "Iteration 10, loss = 2.66443355\n",
            "Iteration 11, loss = 2.63113237\n",
            "Iteration 12, loss = 2.60313864\n",
            "Iteration 13, loss = 2.58895066\n",
            "Iteration 14, loss = 2.56499366\n",
            "Iteration 15, loss = 2.54395485\n",
            "Iteration 16, loss = 2.51265098\n",
            "Iteration 17, loss = 2.48736561\n",
            "Iteration 18, loss = 2.48410163\n",
            "Iteration 19, loss = 2.46527656\n",
            "Iteration 20, loss = 2.45080042\n",
            "Iteration 21, loss = 2.44282864\n",
            "Iteration 22, loss = 2.43325993\n",
            "Iteration 23, loss = 2.42099894\n",
            "Iteration 24, loss = 2.42500132\n",
            "Iteration 25, loss = 2.41859969\n",
            "Iteration 26, loss = 2.37378923\n",
            "Iteration 27, loss = 2.35644677\n",
            "Iteration 28, loss = 2.33417778\n",
            "Iteration 29, loss = 2.34527479\n",
            "Iteration 30, loss = 2.32135994\n",
            "Iteration 31, loss = 2.30930993\n",
            "Iteration 32, loss = 2.30322256\n",
            "Iteration 33, loss = 2.27826320\n",
            "Iteration 34, loss = 2.27822775\n",
            "Iteration 35, loss = 2.27944292\n",
            "Iteration 36, loss = 2.26152738\n",
            "Iteration 37, loss = 2.26203395\n",
            "Iteration 38, loss = 2.26160321\n",
            "Iteration 39, loss = 2.22567533\n",
            "Iteration 40, loss = 2.23231715\n",
            "Iteration 41, loss = 2.20268775\n",
            "Iteration 42, loss = 2.18879181\n",
            "Iteration 43, loss = 2.17088782\n",
            "Iteration 44, loss = 2.19434575\n",
            "Iteration 45, loss = 2.17449743\n",
            "Iteration 46, loss = 2.16809104\n",
            "Iteration 47, loss = 2.15333302\n",
            "Iteration 48, loss = 2.17647644\n",
            "Iteration 49, loss = 2.14809344\n",
            "Iteration 50, loss = 2.13551562\n",
            "Iteration 51, loss = 2.10479414\n",
            "Iteration 52, loss = 2.11977722\n",
            "Iteration 53, loss = 2.09448931\n",
            "Iteration 54, loss = 2.13448416\n",
            "Iteration 55, loss = 2.09291800\n",
            "Iteration 56, loss = 2.10427478\n",
            "Iteration 57, loss = 2.07264487\n",
            "Iteration 58, loss = 2.06575468\n",
            "Iteration 59, loss = 2.05440000\n",
            "Iteration 60, loss = 2.05768295\n",
            "Iteration 61, loss = 2.04251274\n",
            "Iteration 62, loss = 2.02248502\n",
            "Iteration 63, loss = 2.06032312\n",
            "Iteration 64, loss = 2.00631471\n",
            "Iteration 65, loss = 2.00687887\n",
            "Iteration 66, loss = 1.99676974\n",
            "Iteration 67, loss = 2.00471839\n",
            "Iteration 68, loss = 2.03356876\n",
            "Iteration 69, loss = 1.99790434\n",
            "Iteration 70, loss = 1.97170368\n",
            "Iteration 71, loss = 1.99643862\n",
            "Iteration 72, loss = 1.96818838\n",
            "Iteration 73, loss = 1.95986419\n",
            "Iteration 74, loss = 1.94936982\n",
            "Iteration 75, loss = 1.91714399\n",
            "Iteration 76, loss = 1.92799890\n",
            "Iteration 77, loss = 1.91782670\n",
            "Iteration 78, loss = 1.90790397\n",
            "Iteration 79, loss = 1.93815215\n",
            "Iteration 80, loss = 1.92918219\n",
            "Iteration 81, loss = 1.88612569\n",
            "Iteration 82, loss = 1.89651746\n",
            "Iteration 83, loss = 1.89423210\n",
            "Iteration 84, loss = 1.92096505\n",
            "Iteration 85, loss = 1.89594013\n",
            "Iteration 86, loss = 1.86063865\n",
            "Iteration 87, loss = 1.84967895\n",
            "Iteration 88, loss = 1.86788801\n",
            "Iteration 89, loss = 1.83970278\n",
            "Iteration 90, loss = 1.81793998\n",
            "Iteration 91, loss = 1.82750045\n",
            "Iteration 92, loss = 1.86340023\n",
            "Iteration 93, loss = 1.82848822\n",
            "Iteration 94, loss = 1.82365795\n",
            "Iteration 95, loss = 1.80328203\n",
            "Iteration 96, loss = 1.77941699\n",
            "Iteration 97, loss = 1.80000423\n",
            "Iteration 98, loss = 1.82001524\n",
            "Iteration 99, loss = 1.77373142\n",
            "Iteration 100, loss = 1.76959004\n",
            "Iteration 101, loss = 1.74780453\n",
            "Iteration 102, loss = 1.78186235\n",
            "Iteration 103, loss = 1.74868276\n",
            "Iteration 104, loss = 1.76314629\n",
            "Iteration 105, loss = 1.75301795\n",
            "Iteration 106, loss = 1.73601404\n",
            "Iteration 107, loss = 1.75250029\n",
            "Iteration 108, loss = 1.72696925\n",
            "Iteration 109, loss = 1.73662943\n",
            "Iteration 110, loss = 1.74626923\n",
            "Iteration 111, loss = 1.73287274\n",
            "Iteration 112, loss = 1.73049901\n",
            "Iteration 113, loss = 1.69478187\n",
            "Iteration 114, loss = 1.73424344\n",
            "Iteration 115, loss = 1.70784893\n",
            "Iteration 116, loss = 1.68011335\n",
            "Iteration 117, loss = 1.67873222\n",
            "Iteration 118, loss = 1.68165948\n",
            "Iteration 119, loss = 1.67923958\n",
            "Iteration 120, loss = 1.68912700\n",
            "Iteration 121, loss = 1.69359331\n",
            "Iteration 122, loss = 1.65675663\n",
            "Iteration 123, loss = 1.67225002\n",
            "Iteration 124, loss = 1.65978635\n",
            "Iteration 125, loss = 1.63545869\n",
            "Iteration 126, loss = 1.65252263\n",
            "Iteration 127, loss = 1.64304980\n",
            "Iteration 128, loss = 1.63661047\n",
            "Iteration 129, loss = 1.63217825\n",
            "Iteration 130, loss = 1.62245529\n",
            "Iteration 131, loss = 1.61055502\n",
            "Iteration 132, loss = 1.61177652\n",
            "Iteration 133, loss = 1.63209331\n",
            "Iteration 134, loss = 1.60792136\n",
            "Iteration 135, loss = 1.60731569\n",
            "Iteration 136, loss = 1.57548860\n",
            "Iteration 137, loss = 1.59097385\n",
            "Iteration 138, loss = 1.57214277\n",
            "Iteration 139, loss = 1.57813011\n",
            "Iteration 140, loss = 1.56671115\n",
            "Iteration 141, loss = 1.57547411\n",
            "Iteration 142, loss = 1.57771005\n",
            "Iteration 143, loss = 1.53702546\n",
            "Iteration 144, loss = 1.58045181\n",
            "Iteration 145, loss = 1.54595141\n",
            "Iteration 146, loss = 1.53604556\n",
            "Iteration 147, loss = 1.54356499\n",
            "Iteration 148, loss = 1.53641808\n",
            "Iteration 149, loss = 1.55123123\n",
            "Iteration 150, loss = 1.53011837\n",
            "Iteration 151, loss = 1.54464003\n",
            "Iteration 152, loss = 1.50338994\n",
            "Iteration 153, loss = 1.51674488\n",
            "Iteration 154, loss = 1.52355339\n",
            "Iteration 155, loss = 1.50532734\n",
            "Iteration 156, loss = 1.50039746\n",
            "Iteration 157, loss = 1.47731112\n",
            "Iteration 158, loss = 1.49692430\n",
            "Iteration 159, loss = 1.47783800\n",
            "Iteration 160, loss = 1.50228586\n",
            "Iteration 161, loss = 1.47915193\n",
            "Iteration 162, loss = 1.47318051\n",
            "Iteration 163, loss = 1.48742275\n",
            "Iteration 164, loss = 1.47685227\n",
            "Iteration 165, loss = 1.44817631\n",
            "Iteration 166, loss = 1.50174401\n",
            "Iteration 167, loss = 1.43006543\n",
            "Iteration 168, loss = 1.45223718\n",
            "Iteration 169, loss = 1.47100244\n",
            "Iteration 170, loss = 1.43950422\n",
            "Iteration 171, loss = 1.44860533\n",
            "Iteration 172, loss = 1.43488524\n",
            "Iteration 173, loss = 1.42735333\n",
            "Iteration 174, loss = 1.45009966\n",
            "Iteration 175, loss = 1.43537533\n",
            "Iteration 176, loss = 1.44877893\n",
            "Iteration 177, loss = 1.41254558\n",
            "Iteration 178, loss = 1.40695288\n",
            "Iteration 179, loss = 1.42942102\n",
            "Iteration 180, loss = 1.38963457\n",
            "Iteration 181, loss = 1.39499309\n",
            "Iteration 182, loss = 1.39781437\n",
            "Iteration 183, loss = 1.42397286\n",
            "Iteration 184, loss = 1.42223675\n",
            "Iteration 185, loss = 1.37553266\n",
            "Iteration 186, loss = 1.35728123\n",
            "Iteration 187, loss = 1.36794094\n",
            "Iteration 188, loss = 1.35301125\n",
            "Iteration 189, loss = 1.36592152\n",
            "Iteration 190, loss = 1.36954007\n",
            "Iteration 191, loss = 1.35188870\n",
            "Iteration 192, loss = 1.37663049\n",
            "Iteration 193, loss = 1.38381491\n",
            "Iteration 194, loss = 1.37988115\n",
            "Iteration 195, loss = 1.36575559\n",
            "Iteration 196, loss = 1.34354970\n",
            "Iteration 197, loss = 1.35254927\n",
            "Iteration 198, loss = 1.33950017\n",
            "Iteration 199, loss = 1.32796532\n",
            "Iteration 200, loss = 1.32427047\n"
          ]
        },
        {
          "output_type": "stream",
          "name": "stderr",
          "text": [
            "/usr/local/lib/python3.7/dist-packages/sklearn/neural_network/_multilayer_perceptron.py:696: ConvergenceWarning: Stochastic Optimizer: Maximum iterations (200) reached and the optimization hasn't converged yet.\n",
            "  ConvergenceWarning,\n"
          ]
        },
        {
          "output_type": "execute_result",
          "data": {
            "text/plain": [
              "MLPClassifier(hidden_layer_sizes=100, n_iter_no_change=20, tol=1e-05, verbose=1)"
            ]
          },
          "metadata": {},
          "execution_count": 9
        }
      ],
      "source": [
        "from sklearn.neural_network import MLPClassifier\n",
        "from sklearn.model_selection import train_test_split\n",
        "from sklearn.metrics import confusion_matrix\n",
        "from sklearn.svm import SVC\n",
        "from sklearn.metrics import classification_report\n",
        "\n",
        "# split into train and test\n",
        "Xtrain, Xtest, ytrain, ytest = train_test_split(X, y,stratify=y)\n",
        "\n",
        "\n",
        "hidden_layer_sizes = 100\n",
        "activation_fcn = 'relu' # {identity, logistic, tanh, relu}, default='relu'\n",
        "max_iter=200\n",
        "\n",
        "# model initialization\n",
        "mlp = MLPClassifier(hidden_layer_sizes=(hidden_layer_sizes), activation=activation_fcn, \n",
        "                    max_iter=max_iter, #try change hidden layer, or max_iter\n",
        "                    solver='adam', verbose=1,   #try verbose=0 to train with out logging\n",
        "                    random_state=None,\n",
        "                    tol=0.00001,n_iter_no_change=20) # decreasing tol and increasing no_change will train the network 'harder' and usually longer\n",
        "\n",
        "mlp.fit(Xtrain, ytrain) \n"
      ]
    },
    {
      "cell_type": "markdown",
      "metadata": {
        "id": "JZI49FpD0vlU"
      },
      "source": [
        "## Evaluate the performance of the classfier\n",
        "\n",
        "\n",
        "\n",
        "Need to remember to use `predict_proba` for the multiclass classification and apply a softmax/argmax to the output (i.e. choose the largest probability)"
      ]
    },
    {
      "cell_type": "markdown",
      "metadata": {
        "id": "ekJURHGV04kT"
      },
      "source": [
        "### Test it out on a random image from the training data.  "
      ]
    },
    {
      "cell_type": "code",
      "execution_count": 31,
      "metadata": {
        "id": "SpnHovVgZWmt",
        "colab": {
          "base_uri": "https://localhost:8080/",
          "height": 423
        },
        "outputId": "6fa94761-2d4f-4aaa-8a4d-633cfa7040a9"
      },
      "outputs": [
        {
          "output_type": "stream",
          "name": "stdout",
          "text": [
            "Image Index:  2\n",
            "Probability of class: [ 0  0  3 29 12  4 29  0  0  0]\n",
            "real class     :  6 => frog\n",
            "predicted class:  3 => cat\n",
            "Image Index:  3\n",
            "Probability of class: [ 0  0  2  4  0  0  0  0 10 78]\n",
            "real class     :  9 => truck\n",
            "predicted class:  9 => truck\n",
            "range(0, 7500)\n"
          ]
        },
        {
          "output_type": "display_data",
          "data": {
            "text/plain": [
              "<Figure size 432x288 with 1 Axes>"
            ],
            "image/png": "[encoded data removed]"
          },
          "metadata": {
            "needs_background": "light"
          }
        }
      ],
      "source": [
        "# idx = random.choice(range(Xtrain.shape[0]))\n",
        "\n",
        "\n",
        "def visual_result(idx):\n",
        "  print('Image Index: ',idx)\n",
        "  # make sure you use predict_proba for the multi-class classification\n",
        "  ypreda = mlp.predict_proba(Xtrain)\n",
        "  print('Probability of class: {}'.format((ypreda[idx,:]*100).astype(int)))\n",
        "  ypred = np.argmax(ypreda[idx,:], axis=0)\n",
        "  ytrue = np.argmax(ytrain[idx,:], axis=0)\n",
        "  print('real class     : ',ytrue,'=>',class_labels[ytrue])\n",
        "  print('predicted class: ',ypred,'=>',class_labels[ypred])\n",
        "  plt.imshow(get_image(Xtrain,idx))\n",
        "  plt.title('Index: {}, R {}, P: {}'.format(idx,class_labels[ytrue],class_labels[ypred]))\n",
        "  plt.axis('off');\n",
        "\n",
        "visual_result(2)\n",
        "visual_result(3)\n",
        "print(range(Xtrain.shape[0]))"
      ]
    },
    {
      "cell_type": "markdown",
      "metadata": {
        "id": "fGIomVQ50cKF"
      },
      "source": [
        "### Evaluate the performance on the whole training set"
      ]
    },
    {
      "cell_type": "code",
      "execution_count": null,
      "metadata": {
        "id": "dlZcs-1Kem3J"
      },
      "outputs": [],
      "source": [
        "ytrue = np.argmax(ytrain, axis=1)\n",
        "ypreda = mlp.predict_proba(Xtrain)\n",
        "ypred = np.argmax(ypreda, axis=1)\n",
        "report = classification_report(ytrue, ypred)\n",
        "print(report)\n",
        "\n",
        "mat = confusion_matrix(ytrue,ypred)\n",
        "print(mat)\n"
      ]
    },
    {
      "cell_type": "markdown",
      "metadata": {
        "id": "miVFoBeX1F_k"
      },
      "source": [
        "### Evaluate on the performance on testing set"
      ]
    },
    {
      "cell_type": "code",
      "execution_count": null,
      "metadata": {
        "id": "A6-UC3c9iIry"
      },
      "outputs": [],
      "source": [
        "ytrue = np.argmax(ytest, axis=1)\n",
        "ypreda = mlp.predict_proba(Xtest)\n",
        "ypred = np.argmax(ypreda, axis=1)\n",
        "report = classification_report(ytrue, ypred)\n",
        "print(report)\n",
        "\n",
        "mat = confusion_matrix(ytrue,ypred)\n",
        "print(mat)"
      ]
    },
    {
      "cell_type": "markdown",
      "metadata": {
        "id": "1glCdfrjwyXD"
      },
      "source": [
        "## Try just classifying two classes\n",
        "\n",
        "Classfiying all 10 classes can be challenging.  Let's try a simplier task of classfiy just two distinct classes."
      ]
    },
    {
      "cell_type": "code",
      "execution_count": null,
      "metadata": {
        "id": "uZVydf5gA5Bl"
      },
      "outputs": [],
      "source": [
        "print(class_labels)"
      ]
    },
    {
      "cell_type": "code",
      "execution_count": null,
      "metadata": {
        "id": "TPoE0JeNm_Lb"
      },
      "outputs": [],
      "source": [
        "one_target = 'frog'\n",
        "one_label = class_labels.index(one_target)\n",
        "print('Choose ', class_labels[one_label],'as the first class')\n",
        "one_labeli = np.where(np.argmax(y,axis=1) == one_label)[0]\n",
        "print('There are {} instances for the label {}'.format(len(one_labeli),one_target))"
      ]
    },
    {
      "cell_type": "code",
      "execution_count": null,
      "metadata": {
        "id": "YXYZS8udyfNp"
      },
      "outputs": [],
      "source": [
        "two_target = 'horse'\n",
        "two_label = class_labels.index(two_target)\n",
        "print('Choose ', class_labels[two_label],'as the first class')\n",
        "two_labeli = np.where(np.argmax(y,axis=1) == two_label)[0]\n",
        "print('There are {} instances for the label {}'.format(len(two_labeli),two_target))"
      ]
    },
    {
      "cell_type": "code",
      "execution_count": null,
      "metadata": {
        "id": "bWyPyJg9zGN8"
      },
      "outputs": [],
      "source": [
        "alli = np.hstack((one_labeli,two_labeli))\n",
        "Xsubset = X[alli,:]\n",
        "\n",
        "# construct a new y with just the one and two label\n",
        "ysubset = y[alli,:]\n",
        "yclass = np.argmax(ysubset,axis=1)\n",
        "yclass[yclass == one_label] = 1\n",
        "yclass[yclass == two_label] = 2\n",
        "print(yclass)\n",
        "ysubset = pd.get_dummies(yclass).values\n",
        "print(ysubset)\n"
      ]
    },
    {
      "cell_type": "markdown",
      "metadata": {
        "id": "A6bJyAfh-5r4"
      },
      "source": [
        "### Train"
      ]
    },
    {
      "cell_type": "code",
      "execution_count": null,
      "metadata": {
        "id": "LYOVtRse02Jd"
      },
      "outputs": [],
      "source": [
        "from sklearn.neural_network import MLPClassifier\n",
        "from sklearn.model_selection import train_test_split\n",
        "from sklearn.metrics import confusion_matrix\n",
        "from sklearn.svm import SVC\n",
        "from sklearn.metrics import classification_report\n",
        "\n",
        "# split into train and test\n",
        "Xtrain, Xtest, ytrain, ytest = train_test_split(Xsubset, ysubset,stratify=ysubset)\n",
        "\n",
        "\n",
        "hidden_layer_sizes = 100\n",
        "activation_fcn = 'relu' # {identity, logistic, tanh, relu}, default='relu'\n",
        "max_iter=200\n",
        "\n",
        "# model initialization\n",
        "mlp = MLPClassifier(hidden_layer_sizes=(hidden_layer_sizes), activation=activation_fcn, \n",
        "                    max_iter=max_iter, #try change hidden layer, or max_iter\n",
        "                    solver='adam', verbose=1,   #try verbose=0 to train with out logging\n",
        "                    random_state=None,\n",
        "                    tol=0.00001,n_iter_no_change=20) # decreasing tol and increasing no_change will train the network 'harder' and usually longer\n",
        "\n",
        "mlp.fit(Xtrain, ytrain) \n",
        "\n"
      ]
    },
    {
      "cell_type": "markdown",
      "metadata": {
        "id": "ZfLqOod0-33z"
      },
      "source": [
        "### Evaluate"
      ]
    },
    {
      "cell_type": "code",
      "execution_count": null,
      "metadata": {
        "id": "WGMQsFPF1QyZ"
      },
      "outputs": [],
      "source": [
        "print('### Training ###')\n",
        "ytrue = np.argmax(ytrain, axis=1)\n",
        "ypred = mlp.predict(Xtrain)\n",
        "ypred = np.argmax(ypred, axis=1)\n",
        "report = classification_report(ytrue, ypred)\n",
        "print(report)\n",
        "\n",
        "mat = confusion_matrix(ytrue,ypred)\n",
        "print(mat)\n",
        "print()\n",
        "print('### Testing ###')\n",
        "ytrue = np.argmax(ytest, axis=1)\n",
        "ypred = mlp.predict(Xtest)\n",
        "ypred = np.argmax(ypred, axis=1)\n",
        "report = classification_report(ytrue, ypred)\n",
        "print(report)\n",
        "mat = confusion_matrix(ytrue,ypred)\n",
        "print(mat)"
      ]
    }
  ],
  "metadata": {
    "colab": {
      "collapsed_sections": [],
      "provenance": [],
      "include_colab_link": true
    },
    "kernelspec": {
      "display_name": "Python 3",
      "name": "python3"
    }
  },
  "nbformat": 4,
  "nbformat_minor": 0
}